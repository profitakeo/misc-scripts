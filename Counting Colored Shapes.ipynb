{
 "cells": [
  {
   "cell_type": "markdown",
   "id": "a08ee2e5",
   "metadata": {},
   "source": [
    "# Counting Colored Shapes\n",
    "#### Based on: https://codeloop.org/opencv-python-color-detection-example/\n",
    "\n",
    "#### Note, for HSV:\n",
    "#### hue = color / saturation = intensity / value = darkness"
   ]
  },
  {
   "cell_type": "code",
   "execution_count": 19,
   "id": "a7374f3d",
   "metadata": {},
   "outputs": [
    {
     "name": "stdout",
     "output_type": "stream",
     "text": [
      "Requirement already satisfied: opencv-python in c:\\programdata\\anaconda3\\lib\\site-packages (4.5.3.56)\n",
      "Requirement already satisfied: numpy>=1.17.3 in c:\\programdata\\anaconda3\\lib\\site-packages (from opencv-python) (1.20.1)\n",
      "Requirement already satisfied: imutils in c:\\programdata\\anaconda3\\lib\\site-packages (0.5.4)\n"
     ]
    }
   ],
   "source": [
    "# Install required packages\n",
    "!pip3 install opencv-python\n",
    "!pip3 install imutils"
   ]
  },
  {
   "cell_type": "code",
   "execution_count": 20,
   "id": "baebf533",
   "metadata": {},
   "outputs": [],
   "source": [
    "import cv2\n",
    "import numpy as np\n",
    "import imutils\n",
    "from imutils import perspective\n",
    "from imutils import contours\n",
    "from scipy.spatial.distance import euclidean"
   ]
  },
  {
   "cell_type": "markdown",
   "id": "efbd5d07",
   "metadata": {},
   "source": [
    "### Parameters"
   ]
  },
  {
   "cell_type": "code",
   "execution_count": 21,
   "id": "19ef142b",
   "metadata": {},
   "outputs": [],
   "source": [
    "img_name = 'img.png' # image file\n",
    "\n",
    "# Convert RGB to HSV using:\n",
    "# https://www.rapidtables.com/convert/color/rgb-to-hsv.html\n",
    "h_deg = 59\n",
    "s_perc = 42.6\n",
    "v_perc = 97.6"
   ]
  },
  {
   "cell_type": "markdown",
   "id": "ed9b6068",
   "metadata": {},
   "source": [
    "### Creating mask of shapes in target color"
   ]
  },
  {
   "cell_type": "code",
   "execution_count": 22,
   "id": "a8f4a373",
   "metadata": {},
   "outputs": [],
   "source": [
    "# Converting HSV format (to H: 0-179, S: 0-255, V: 0-255)\n",
    "h = h_deg / 360 * 180\n",
    "s = s_perc / 100 * 255\n",
    "v = v_perc / 100 * 255\n",
    "\n",
    "# Bounds for 'hue'\n",
    "h_1 = max(h-1,0)\n",
    "h_2 = min(h+1,180)\n",
    "\n",
    "# Bounds for 'saturation'\n",
    "s_1 = max(s-50,0)\n",
    "s_2 = min(s+50,255)\n",
    "\n",
    "# Bounds for 'value'\n",
    "v_1 = max(v-5,0)\n",
    "\n",
    "img = cv2.imread(img_name) # Loading image\n",
    "hsv = cv2.cvtColor(img, cv2.COLOR_BGR2HSV) # Converting color spaces\n",
    "\n",
    "# Setting range of target color\n",
    "lower_range = np.array([h_1, s_1, v_1])\n",
    "upper_range = np.array([h_2, s_2, 255])\n",
    "\n",
    "# Creating mask (of shapes in target color)\n",
    "mask = cv2.inRange(hsv, lower_range, upper_range)\n",
    "\n",
    "# Display mask\n",
    "cv2.imshow('Mask: Shapes in Target Color', mask)\n",
    "cv2.waitKey(0)\n",
    "cv2.destroyAllWindows()"
   ]
  },
  {
   "cell_type": "markdown",
   "id": "b8726175",
   "metadata": {},
   "source": [
    "### Finding number of shapes"
   ]
  },
  {
   "cell_type": "code",
   "execution_count": 23,
   "id": "cd1acf9f",
   "metadata": {
    "scrolled": true
   },
   "outputs": [
    {
     "name": "stdout",
     "output_type": "stream",
     "text": [
      "Number of shapes in target color is: 865\n"
     ]
    }
   ],
   "source": [
    "# Identifying contours (shapes) \n",
    "cnts = cv2.findContours(mask.copy(), cv2.RETR_EXTERNAL, cv2.CHAIN_APPROX_SIMPLE)\n",
    "cnts = imutils.grab_contours(cnts)\n",
    "\n",
    "\n",
    "# Remove insignificant contours (which are not large enough)\n",
    "cnts = [x for x in cnts if cv2.contourArea(x) > 50]\n",
    "\n",
    "print(\"Number of shapes in target color is:\",len(cnts)) # print number of shapes in target color"
   ]
  }
 ],
 "metadata": {
  "kernelspec": {
   "display_name": "Python 3",
   "language": "python",
   "name": "python3"
  },
  "language_info": {
   "codemirror_mode": {
    "name": "ipython",
    "version": 3
   },
   "file_extension": ".py",
   "mimetype": "text/x-python",
   "name": "python",
   "nbconvert_exporter": "python",
   "pygments_lexer": "ipython3",
   "version": "3.8.8"
  }
 },
 "nbformat": 4,
 "nbformat_minor": 5
}
